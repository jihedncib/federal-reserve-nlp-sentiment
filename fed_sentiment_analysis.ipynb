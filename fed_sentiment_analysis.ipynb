{
 "cells": [
  {
   "cell_type": "code",
   "execution_count": 16,
   "id": "a66e0af7",
   "metadata": {},
   "outputs": [
    {
     "data": {
      "application/vnd.microsoft.datawrangler.viewer.v0+json": {
       "columns": [
        {
         "name": "index",
         "rawType": "int64",
         "type": "integer"
        },
        {
         "name": "date",
         "rawType": "datetime64[ns]",
         "type": "datetime"
        }
       ],
       "ref": "e723700b-2a22-41fe-927d-86746fa09684",
       "rows": [
        [
         "0",
         "1996-12-19 00:00:00"
        ],
        [
         "1",
         "1996-12-06 00:00:00"
        ],
        [
         "2",
         "1996-12-05 00:00:00"
        ],
        [
         "3",
         "1996-12-03 00:00:00"
        ],
        [
         "4",
         "1996-11-25 00:00:00"
        ]
       ],
       "shape": {
        "columns": 1,
        "rows": 5
       }
      },
      "text/html": [
       "<div>\n",
       "<style scoped>\n",
       "    .dataframe tbody tr th:only-of-type {\n",
       "        vertical-align: middle;\n",
       "    }\n",
       "\n",
       "    .dataframe tbody tr th {\n",
       "        vertical-align: top;\n",
       "    }\n",
       "\n",
       "    .dataframe thead th {\n",
       "        text-align: right;\n",
       "    }\n",
       "</style>\n",
       "<table border=\"1\" class=\"dataframe\">\n",
       "  <thead>\n",
       "    <tr style=\"text-align: right;\">\n",
       "      <th></th>\n",
       "      <th>date</th>\n",
       "    </tr>\n",
       "  </thead>\n",
       "  <tbody>\n",
       "    <tr>\n",
       "      <th>0</th>\n",
       "      <td>1996-12-19</td>\n",
       "    </tr>\n",
       "    <tr>\n",
       "      <th>1</th>\n",
       "      <td>1996-12-06</td>\n",
       "    </tr>\n",
       "    <tr>\n",
       "      <th>2</th>\n",
       "      <td>1996-12-05</td>\n",
       "    </tr>\n",
       "    <tr>\n",
       "      <th>3</th>\n",
       "      <td>1996-12-03</td>\n",
       "    </tr>\n",
       "    <tr>\n",
       "      <th>4</th>\n",
       "      <td>1996-11-25</td>\n",
       "    </tr>\n",
       "  </tbody>\n",
       "</table>\n",
       "</div>"
      ],
      "text/plain": [
       "        date\n",
       "0 1996-12-19\n",
       "1 1996-12-06\n",
       "2 1996-12-05\n",
       "3 1996-12-03\n",
       "4 1996-11-25"
      ]
     },
     "execution_count": 16,
     "metadata": {},
     "output_type": "execute_result"
    }
   ],
   "source": [
    "import pandas as pd\n",
    "\n",
    "# Load CSV (adjust name if needed)\n",
    "df = pd.read_csv(\"data/FOMC_statements.csv\")\n",
    "\n",
    "# Drop rows where the date is missing\n",
    "df = df[df[\"date\"].notna()].copy()\n",
    "\n",
    "# Convert float dates like 19961219.0 → '19961219' → datetime\n",
    "df[\"date\"] = pd.to_datetime(df[\"date\"].astype(int).astype(str), format=\"%Y%m%d\")\n",
    "\n",
    "# Preview\n",
    "df[[\"date\"]].head()"
   ]
  },
  {
   "cell_type": "code",
   "execution_count": 17,
   "id": "05c24a3e",
   "metadata": {},
   "outputs": [],
   "source": [
    "from transformers import AutoTokenizer, AutoModelForSequenceClassification\n",
    "import torch\n",
    "import torch.nn.functional as F\n",
    "\n",
    "# Load model + tokenizer\n",
    "model_name = \"ProsusAI/finbert\"\n",
    "tokenizer = AutoTokenizer.from_pretrained(model_name)\n",
    "model = AutoModelForSequenceClassification.from_pretrained(model_name)\n",
    "model.eval()\n",
    "\n",
    "# Move to GPU if available\n",
    "device = torch.device(\"cuda\" if torch.cuda.is_available() else \"cpu\")\n",
    "model.to(device)\n",
    "\n",
    "# Label order: ['negative', 'neutral', 'positive']\n",
    "labels = ['negative', 'neutral', 'positive']\n",
    "\n",
    "def get_sentiment_probs(text):\n",
    "    # Tokenize\n",
    "    inputs = tokenizer(text, return_tensors=\"pt\", truncation=True, max_length=512).to(device)\n",
    "    with torch.no_grad():\n",
    "        outputs = model(**inputs)\n",
    "        logits = outputs.logits\n",
    "        probs = F.softmax(logits, dim=1).detach().cpu().numpy()[0]\n",
    "    return dict(zip(labels, probs))"
   ]
  },
  {
   "cell_type": "code",
   "execution_count": 18,
   "id": "53afe743",
   "metadata": {},
   "outputs": [],
   "source": [
    "df = df.rename(columns={\"date\": \"date\", \"text\": \"statement\"})\n",
    "\n",
    "# Convert date column to datetime\n",
    "df[\"date\"] = pd.to_datetime(df[\"date\"])\n",
    "\n",
    "df[\"probs\"] = df[\"statement\"].apply(get_sentiment_probs)\n",
    "\n",
    "# Extract P(positive) - P(negative)\n",
    "df[\"sentiment_score\"] = df[\"probs\"].apply(lambda d: d[\"positive\"] - d[\"negative\"])\n"
   ]
  },
  {
   "cell_type": "code",
   "execution_count": null,
   "id": "8a57c8de",
   "metadata": {},
   "outputs": [
    {
     "data": {
      "application/vnd.microsoft.datawrangler.viewer.v0+json": {
       "columns": [
        {
         "name": "index",
         "rawType": "int64",
         "type": "integer"
        },
        {
         "name": "date",
         "rawType": "datetime64[ns]",
         "type": "datetime"
        },
        {
         "name": "sentiment_score",
         "rawType": "float32",
         "type": "float"
        }
       ],
       "ref": "8f97675e-284a-4584-9e77-c5ebcba02018",
       "rows": [
        [
         "0",
         "1996-12-19 00:00:00",
         "0.83222806"
        ],
        [
         "1",
         "1996-12-06 00:00:00",
         "0.5493905"
        ],
        [
         "2",
         "1996-12-05 00:00:00",
         "0.8323406"
        ],
        [
         "3",
         "1996-12-03 00:00:00",
         "0.5604251"
        ],
        [
         "4",
         "1996-11-25 00:00:00",
         "0.6344944"
        ],
        [
         "5",
         "1996-11-21 00:00:00",
         "0.77012265"
        ],
        [
         "6",
         "1996-11-18 00:00:00",
         "0.66357046"
        ],
        [
         "7",
         "1996-10-31 00:00:00",
         "0.8706765"
        ],
        [
         "8",
         "1996-10-24 00:00:00",
         "0.71433365"
        ],
        [
         "9",
         "1996-10-16 00:00:00",
         "0.7384779"
        ],
        [
         "10",
         "1996-10-11 00:00:00",
         "0.8085047"
        ],
        [
         "11",
         "1996-10-09 00:00:00",
         "0.668512"
        ],
        [
         "12",
         "1996-10-07 00:00:00",
         "0.7172162"
        ],
        [
         "13",
         "1996-10-05 00:00:00",
         "0.7627719"
        ],
        [
         "14",
         "1996-10-02 00:00:00",
         "0.8626111"
        ],
        [
         "15",
         "1996-09-19 00:00:00",
         "0.8550923"
        ],
        [
         "16",
         "1996-09-08 00:00:00",
         "0.8082066"
        ],
        [
         "17",
         "1996-06-18 00:00:00",
         "0.71979934"
        ],
        [
         "18",
         "1996-06-13 00:00:00",
         "-0.21080646"
        ],
        [
         "19",
         "1997-12-15 00:00:00",
         "0.48692954"
        ],
        [
         "20",
         "1997-12-03 00:00:00",
         "0.75265074"
        ],
        [
         "21",
         "1997-12-02 00:00:00",
         "-0.32087332"
        ],
        [
         "22",
         "1997-12-01 00:00:00",
         "0.84222203"
        ],
        [
         "23",
         "1997-11-07 00:00:00",
         "0.8280478"
        ],
        [
         "24",
         "1997-11-04 00:00:00",
         "0.6131906"
        ],
        [
         "25",
         "1997-10-31 00:00:00",
         "0.81202996"
        ],
        [
         "26",
         "1997-10-30 00:00:00",
         "0.5703989"
        ],
        [
         "27",
         "1997-10-15 00:00:00",
         "0.7452749"
        ],
        [
         "28",
         "1997-10-14 00:00:00",
         "0.7544022"
        ],
        [
         "29",
         "1997-10-14 00:00:00",
         "0.7424717"
        ],
        [
         "30",
         "1997-10-14 00:00:00",
         "0.57044417"
        ],
        [
         "31",
         "1997-10-11 00:00:00",
         "0.8637582"
        ],
        [
         "32",
         "1997-10-05 00:00:00",
         "0.8480443"
        ],
        [
         "33",
         "1997-09-23 00:00:00",
         "0.8328413"
        ],
        [
         "34",
         "1997-09-19 00:00:00",
         "0.7759438"
        ],
        [
         "35",
         "1997-09-17 00:00:00",
         "0.74509823"
        ],
        [
         "36",
         "1997-09-12 00:00:00",
         "0.75762504"
        ],
        [
         "37",
         "1997-09-12 00:00:00",
         "0.3758113"
        ],
        [
         "38",
         "1997-09-05 00:00:00",
         "0.6051625"
        ],
        [
         "39",
         "1997-09-04 00:00:00",
         "0.70512635"
        ],
        [
         "40",
         "1997-06-18 00:00:00",
         "0.7436177"
        ],
        [
         "41",
         "1997-06-18 00:00:00",
         "0.6782024"
        ],
        [
         "42",
         "1997-06-10 00:00:00",
         "0.78554034"
        ],
        [
         "43",
         "1997-05-23 00:00:00",
         "0.7945282"
        ],
        [
         "44",
         "1997-05-08 00:00:00",
         "0.4652955"
        ],
        [
         "45",
         "1997-05-03 00:00:00",
         "0.73430157"
        ],
        [
         "46",
         "1997-05-01 00:00:00",
         "0.65678823"
        ],
        [
         "47",
         "1997-04-29 00:00:00",
         "0.69239146"
        ],
        [
         "48",
         "1997-04-24 00:00:00",
         "0.8250681"
        ],
        [
         "49",
         "1997-04-12 00:00:00",
         "0.65490556"
        ]
       ],
       "shape": {
        "columns": 2,
        "rows": 1455
       }
      },
      "text/html": [
       "<div>\n",
       "<style scoped>\n",
       "    .dataframe tbody tr th:only-of-type {\n",
       "        vertical-align: middle;\n",
       "    }\n",
       "\n",
       "    .dataframe tbody tr th {\n",
       "        vertical-align: top;\n",
       "    }\n",
       "\n",
       "    .dataframe thead th {\n",
       "        text-align: right;\n",
       "    }\n",
       "</style>\n",
       "<table border=\"1\" class=\"dataframe\">\n",
       "  <thead>\n",
       "    <tr style=\"text-align: right;\">\n",
       "      <th></th>\n",
       "      <th>date</th>\n",
       "      <th>sentiment_score</th>\n",
       "    </tr>\n",
       "  </thead>\n",
       "  <tbody>\n",
       "    <tr>\n",
       "      <th>0</th>\n",
       "      <td>1996-12-19</td>\n",
       "      <td>0.832228</td>\n",
       "    </tr>\n",
       "    <tr>\n",
       "      <th>1</th>\n",
       "      <td>1996-12-06</td>\n",
       "      <td>0.549390</td>\n",
       "    </tr>\n",
       "    <tr>\n",
       "      <th>2</th>\n",
       "      <td>1996-12-05</td>\n",
       "      <td>0.832341</td>\n",
       "    </tr>\n",
       "    <tr>\n",
       "      <th>3</th>\n",
       "      <td>1996-12-03</td>\n",
       "      <td>0.560425</td>\n",
       "    </tr>\n",
       "    <tr>\n",
       "      <th>4</th>\n",
       "      <td>1996-11-25</td>\n",
       "      <td>0.634494</td>\n",
       "    </tr>\n",
       "    <tr>\n",
       "      <th>...</th>\n",
       "      <td>...</td>\n",
       "      <td>...</td>\n",
       "    </tr>\n",
       "    <tr>\n",
       "      <th>1451</th>\n",
       "      <td>2020-02-05</td>\n",
       "      <td>0.840111</td>\n",
       "    </tr>\n",
       "    <tr>\n",
       "      <th>1452</th>\n",
       "      <td>2020-01-17</td>\n",
       "      <td>0.843432</td>\n",
       "    </tr>\n",
       "    <tr>\n",
       "      <th>1453</th>\n",
       "      <td>2020-01-16</td>\n",
       "      <td>-0.005241</td>\n",
       "    </tr>\n",
       "    <tr>\n",
       "      <th>1454</th>\n",
       "      <td>2020-01-09</td>\n",
       "      <td>-0.291306</td>\n",
       "    </tr>\n",
       "    <tr>\n",
       "      <th>1455</th>\n",
       "      <td>2020-01-08</td>\n",
       "      <td>0.476544</td>\n",
       "    </tr>\n",
       "  </tbody>\n",
       "</table>\n",
       "<p>1455 rows × 2 columns</p>\n",
       "</div>"
      ],
      "text/plain": [
       "           date  sentiment_score\n",
       "0    1996-12-19         0.832228\n",
       "1    1996-12-06         0.549390\n",
       "2    1996-12-05         0.832341\n",
       "3    1996-12-03         0.560425\n",
       "4    1996-11-25         0.634494\n",
       "...         ...              ...\n",
       "1451 2020-02-05         0.840111\n",
       "1452 2020-01-17         0.843432\n",
       "1453 2020-01-16        -0.005241\n",
       "1454 2020-01-09        -0.291306\n",
       "1455 2020-01-08         0.476544\n",
       "\n",
       "[1455 rows x 2 columns]"
      ]
     },
     "execution_count": 19,
     "metadata": {},
     "output_type": "execute_result"
    }
   ],
   "source": [
    "# Show results\n",
    "df[[\"date\", \"sentiment_score\"]]"
   ]
  },
  {
   "cell_type": "code",
   "execution_count": 20,
   "id": "cb4ec601",
   "metadata": {},
   "outputs": [
    {
     "name": "stderr",
     "output_type": "stream",
     "text": [
      "C:\\Users\\jihed\\AppData\\Local\\Temp\\ipykernel_13768\\263382344.py:4: FutureWarning: YF.download() has changed argument auto_adjust default to True\n",
      "  sp500 = yf.download(\"^GSPC\", start=\"1995-01-01\", end=\"2025-01-01\")\n",
      "[*********************100%***********************]  1 of 1 completed\n",
      "C:\\Users\\jihed\\AppData\\Local\\Temp\\ipykernel_13768\\263382344.py:7: FutureWarning: YF.download() has changed argument auto_adjust default to True\n",
      "  tnx = yf.download(\"^TNX\", start=\"1995-01-01\", end=\"2025-01-01\")\n",
      "[*********************100%***********************]  1 of 1 completed\n"
     ]
    },
    {
     "data": {
      "text/plain": [
       "(Price       sp500_close\n",
       " Ticker            ^GSPC\n",
       " Date                   \n",
       " 2024-12-24  6040.040039\n",
       " 2024-12-26  6037.589844\n",
       " 2024-12-27  5970.839844\n",
       " 2024-12-30  5906.939941\n",
       " 2024-12-31  5881.629883,\n",
       " Price      tnx_close\n",
       " Ticker          ^TNX\n",
       " Date                \n",
       " 2024-12-24     4.591\n",
       " 2024-12-26     4.579\n",
       " 2024-12-27     4.619\n",
       " 2024-12-30     4.545\n",
       " 2024-12-31     4.573)"
      ]
     },
     "execution_count": 20,
     "metadata": {},
     "output_type": "execute_result"
    }
   ],
   "source": [
    "import yfinance as yf\n",
    "\n",
    "# Pull S&P 500 data (1995–today)\n",
    "sp500 = yf.download(\"^GSPC\", start=\"1995-01-01\", end=\"2025-01-01\")\n",
    "\n",
    "# Pull 10-year Treasury yield (^TNX)\n",
    "tnx = yf.download(\"^TNX\", start=\"1995-01-01\", end=\"2025-01-01\")\n",
    "\n",
    "# Keep only closing prices\n",
    "sp500 = sp500[[\"Close\"]].rename(columns={\"Close\": \"sp500_close\"})\n",
    "tnx = tnx[[\"Close\"]].rename(columns={\"Close\": \"tnx_close\"})\n",
    "\n",
    "# Preview\n",
    "sp500.tail(), tnx.tail()"
   ]
  },
  {
   "cell_type": "code",
   "execution_count": 21,
   "id": "33fb125b",
   "metadata": {},
   "outputs": [
    {
     "data": {
      "application/vnd.microsoft.datawrangler.viewer.v0+json": {
       "columns": [
        {
         "name": "index",
         "rawType": "int64",
         "type": "integer"
        },
        {
         "name": "date",
         "rawType": "datetime64[ns]",
         "type": "datetime"
        },
        {
         "name": "sentiment_score",
         "rawType": "float32",
         "type": "float"
        },
        {
         "name": "sp500_change",
         "rawType": "float64",
         "type": "float"
        },
        {
         "name": "tnx_change",
         "rawType": "float64",
         "type": "float"
        }
       ],
       "ref": "8efe80cb-b240-4bf1-983f-4eb64672b16f",
       "rows": [
        [
         "0",
         "1996-12-19 00:00:00",
         "0.83222806",
         "0.004170222740342293",
         "-0.0006310681912515803"
        ],
        [
         "1",
         "1996-12-06 00:00:00",
         "0.5493905",
         null,
         null
        ],
        [
         "2",
         "1996-12-05 00:00:00",
         "0.8323406",
         "-0.006421490724522508",
         "0.005477750594567636"
        ],
        [
         "3",
         "1996-12-03 00:00:00",
         "0.5604251",
         "-0.004249817697160317",
         "0.008934463846568892"
        ],
        [
         "4",
         "1996-11-25 00:00:00",
         "0.6344944",
         "-0.001413427846729629",
         "0.0"
        ]
       ],
       "shape": {
        "columns": 4,
        "rows": 5
       }
      },
      "text/html": [
       "<div>\n",
       "<style scoped>\n",
       "    .dataframe tbody tr th:only-of-type {\n",
       "        vertical-align: middle;\n",
       "    }\n",
       "\n",
       "    .dataframe tbody tr th {\n",
       "        vertical-align: top;\n",
       "    }\n",
       "\n",
       "    .dataframe thead th {\n",
       "        text-align: right;\n",
       "    }\n",
       "</style>\n",
       "<table border=\"1\" class=\"dataframe\">\n",
       "  <thead>\n",
       "    <tr style=\"text-align: right;\">\n",
       "      <th></th>\n",
       "      <th>date</th>\n",
       "      <th>sentiment_score</th>\n",
       "      <th>sp500_change</th>\n",
       "      <th>tnx_change</th>\n",
       "    </tr>\n",
       "  </thead>\n",
       "  <tbody>\n",
       "    <tr>\n",
       "      <th>0</th>\n",
       "      <td>1996-12-19</td>\n",
       "      <td>0.832228</td>\n",
       "      <td>0.004170</td>\n",
       "      <td>-0.000631</td>\n",
       "    </tr>\n",
       "    <tr>\n",
       "      <th>1</th>\n",
       "      <td>1996-12-06</td>\n",
       "      <td>0.549390</td>\n",
       "      <td>NaN</td>\n",
       "      <td>NaN</td>\n",
       "    </tr>\n",
       "    <tr>\n",
       "      <th>2</th>\n",
       "      <td>1996-12-05</td>\n",
       "      <td>0.832341</td>\n",
       "      <td>-0.006421</td>\n",
       "      <td>0.005478</td>\n",
       "    </tr>\n",
       "    <tr>\n",
       "      <th>3</th>\n",
       "      <td>1996-12-03</td>\n",
       "      <td>0.560425</td>\n",
       "      <td>-0.004250</td>\n",
       "      <td>0.008934</td>\n",
       "    </tr>\n",
       "    <tr>\n",
       "      <th>4</th>\n",
       "      <td>1996-11-25</td>\n",
       "      <td>0.634494</td>\n",
       "      <td>-0.001413</td>\n",
       "      <td>0.000000</td>\n",
       "    </tr>\n",
       "  </tbody>\n",
       "</table>\n",
       "</div>"
      ],
      "text/plain": [
       "        date  sentiment_score  sp500_change  tnx_change\n",
       "0 1996-12-19         0.832228      0.004170   -0.000631\n",
       "1 1996-12-06         0.549390           NaN         NaN\n",
       "2 1996-12-05         0.832341     -0.006421    0.005478\n",
       "3 1996-12-03         0.560425     -0.004250    0.008934\n",
       "4 1996-11-25         0.634494     -0.001413    0.000000"
      ]
     },
     "execution_count": 21,
     "metadata": {},
     "output_type": "execute_result"
    }
   ],
   "source": [
    "# Create a copy of full sentiment dataframe\n",
    "sentiment_df = df.copy()\n",
    "\n",
    "# Add 'next trading day' column\n",
    "sentiment_df[\"next_day\"] = sentiment_df[\"date\"] + pd.Timedelta(days=1)\n",
    "\n",
    "# Set index on market data\n",
    "sp500.index = pd.to_datetime(sp500.index)\n",
    "tnx.index = pd.to_datetime(tnx.index)\n",
    "\n",
    "# Merge: get next-day values from market data\n",
    "sentiment_df[\"sp500_next_close\"] = sp500[\"sp500_close\"].reindex(sentiment_df[\"next_day\"]).values\n",
    "sentiment_df[\"tnx_next_close\"] = tnx[\"tnx_close\"].reindex(sentiment_df[\"next_day\"]).values\n",
    "sentiment_df[\"sp500_prev_close\"] = sp500[\"sp500_close\"].reindex(sentiment_df[\"date\"]).values\n",
    "sentiment_df[\"tnx_prev_close\"] = tnx[\"tnx_close\"].reindex(sentiment_df[\"date\"]).values\n",
    "\n",
    "# Calculate % change\n",
    "sentiment_df[\"sp500_change\"] = (sentiment_df[\"sp500_next_close\"] - sentiment_df[\"sp500_prev_close\"]) / sentiment_df[\"sp500_prev_close\"]\n",
    "sentiment_df[\"tnx_change\"] = (sentiment_df[\"tnx_next_close\"] - sentiment_df[\"tnx_prev_close\"]) / sentiment_df[\"tnx_prev_close\"]\n",
    "\n",
    "# Preview\n",
    "sentiment_df[[\"date\", \"sentiment_score\", \"sp500_change\", \"tnx_change\"]].head()"
   ]
  },
  {
   "cell_type": "code",
   "execution_count": 22,
   "id": "27a8e6b6",
   "metadata": {},
   "outputs": [
    {
     "data": {
      "image/png": "[encoded data removed]",
      "text/plain": [
       "<Figure size 800x500 with 1 Axes>"
      ]
     },
     "metadata": {},
     "output_type": "display_data"
    }
   ],
   "source": [
    "import matplotlib.pyplot as plt\n",
    "import seaborn as sns\n",
    "\n",
    "# Set visual style\n",
    "sns.set(style=\"whitegrid\")\n",
    "\n",
    "# Scatter plot: Sentiment vs S&P 500 % change\n",
    "plt.figure(figsize=(8, 5))\n",
    "sns.scatterplot(data=sentiment_df, x=\"sentiment_score\", y=\"sp500_change\")\n",
    "plt.title(\"Sentiment vs S&P 500 1-Day Change\")\n",
    "plt.xlabel(\"FinBERT Sentiment Score\")\n",
    "plt.ylabel(\"S&P 500 % Change\")\n",
    "plt.tight_layout()\n",
    "plt.savefig(\"results/plot_sentiment_sp500.png\")\n",
    "plt.show()"
   ]
  },
  {
   "cell_type": "code",
   "execution_count": 23,
   "id": "a1a7bfa4",
   "metadata": {},
   "outputs": [
    {
     "data": {
      "image/png": "[encoded data removed]",
      "text/plain": [
       "<Figure size 800x500 with 1 Axes>"
      ]
     },
     "metadata": {},
     "output_type": "display_data"
    }
   ],
   "source": [
    "plt.figure(figsize=(8, 5))\n",
    "sns.scatterplot(data=sentiment_df, x=\"sentiment_score\", y=\"tnx_change\")\n",
    "plt.title(\"Sentiment vs 10-Year Treasury Yield Change\")\n",
    "plt.xlabel(\"FinBERT Sentiment Score\")\n",
    "plt.ylabel(\"10-Year Yield % Change\")\n",
    "plt.tight_layout()\n",
    "plt.savefig(\"results/plot_sentiment_tnx.png\")\n",
    "plt.show()"
   ]
  },
  {
   "cell_type": "code",
   "execution_count": 26,
   "id": "4c6eb1d3",
   "metadata": {},
   "outputs": [
    {
     "name": "stdout",
     "output_type": "stream",
     "text": [
      "                            OLS Regression Results                            \n",
      "==============================================================================\n",
      "Dep. Variable:           sp500_change   R-squared:                       0.000\n",
      "Model:                            OLS   Adj. R-squared:                 -0.001\n",
      "Method:                 Least Squares   F-statistic:                    0.2111\n",
      "Date:                Mon, 23 Jun 2025   Prob (F-statistic):              0.646\n",
      "Time:                        08:43:45   Log-Likelihood:                 3237.4\n",
      "No. Observations:                1062   AIC:                            -6471.\n",
      "Df Residuals:                    1060   BIC:                            -6461.\n",
      "Df Model:                           1                                         \n",
      "Covariance Type:            nonrobust                                         \n",
      "===================================================================================\n",
      "                      coef    std err          t      P>|t|      [0.025      0.975]\n",
      "-----------------------------------------------------------------------------------\n",
      "const           -3.743e-05      0.001     -0.070      0.944      -0.001       0.001\n",
      "sentiment_score     0.0004      0.001      0.459      0.646      -0.001       0.002\n",
      "==============================================================================\n",
      "Omnibus:                      196.179   Durbin-Watson:                   1.961\n",
      "Prob(Omnibus):                  0.000   Jarque-Bera (JB):             1949.123\n",
      "Skew:                          -0.531   Prob(JB):                         0.00\n",
      "Kurtosis:                       9.551   Cond. No.                         3.10\n",
      "==============================================================================\n",
      "\n",
      "Notes:\n",
      "[1] Standard Errors assume that the covariance matrix of the errors is correctly specified.\n"
     ]
    }
   ],
   "source": [
    "import statsmodels.api as sm\n",
    "\n",
    "# Drop missing values\n",
    "reg_data = sentiment_df.dropna(subset=[\"sentiment_score\", \"sp500_change\"])\n",
    "\n",
    "# Define X and y\n",
    "X = reg_data[\"sentiment_score\"]\n",
    "y = reg_data[\"sp500_change\"]\n",
    "\n",
    "# Add constant to X (intercept)\n",
    "X = sm.add_constant(X)\n",
    "\n",
    "# Fit the model\n",
    "model = sm.OLS(y, X).fit()\n",
    "\n",
    "# Print regression summary\n",
    "print(model.summary())"
   ]
  },
  {
   "cell_type": "code",
   "execution_count": 27,
   "id": "18a3a3e3",
   "metadata": {},
   "outputs": [],
   "source": [
    "with open(\"results/regression_summary_sp500.txt\", \"w\") as f:\n",
    "    f.write(model.summary().as_text())"
   ]
  },
  {
   "cell_type": "code",
   "execution_count": 28,
   "id": "da7d3e86",
   "metadata": {},
   "outputs": [
    {
     "name": "stdout",
     "output_type": "stream",
     "text": [
      "                            OLS Regression Results                            \n",
      "==============================================================================\n",
      "Dep. Variable:             tnx_change   R-squared:                       0.000\n",
      "Model:                            OLS   Adj. R-squared:                 -0.001\n",
      "Method:                 Least Squares   F-statistic:                    0.2570\n",
      "Date:                Mon, 23 Jun 2025   Prob (F-statistic):              0.612\n",
      "Time:                        08:43:59   Log-Likelihood:                 2749.0\n",
      "No. Observations:                1060   AIC:                            -5494.\n",
      "Df Residuals:                    1058   BIC:                            -5484.\n",
      "Df Model:                           1                                         \n",
      "Covariance Type:            nonrobust                                         \n",
      "===================================================================================\n",
      "                      coef    std err          t      P>|t|      [0.025      0.975]\n",
      "-----------------------------------------------------------------------------------\n",
      "const               0.0009      0.001      1.012      0.312      -0.001       0.003\n",
      "sentiment_score     0.0007      0.001      0.507      0.612      -0.002       0.003\n",
      "==============================================================================\n",
      "Omnibus:                      111.355   Durbin-Watson:                   1.714\n",
      "Prob(Omnibus):                  0.000   Jarque-Bera (JB):              837.766\n",
      "Skew:                           0.038   Prob(JB):                    1.21e-182\n",
      "Kurtosis:                       7.355   Cond. No.                         3.09\n",
      "==============================================================================\n",
      "\n",
      "Notes:\n",
      "[1] Standard Errors assume that the covariance matrix of the errors is correctly specified.\n"
     ]
    }
   ],
   "source": [
    "import statsmodels.api as sm\n",
    "\n",
    "# Drop missing values\n",
    "reg_data = sentiment_df.dropna(subset=[\"sentiment_score\", \"tnx_change\"])\n",
    "\n",
    "# Define X and y\n",
    "X = reg_data[\"sentiment_score\"]\n",
    "y = reg_data[\"tnx_change\"]\n",
    "\n",
    "# Add constant to X (intercept)\n",
    "X = sm.add_constant(X)\n",
    "\n",
    "# Fit the model\n",
    "model2 = sm.OLS(y, X).fit()\n",
    "\n",
    "# Print regression summary\n",
    "print(model2.summary())"
   ]
  },
  {
   "cell_type": "code",
   "execution_count": 29,
   "id": "aa9c1637",
   "metadata": {},
   "outputs": [],
   "source": [
    "with open(\"results/regression_summary_tnx.txt\", \"w\") as f:\n",
    "    f.write(model2.summary().as_text())"
   ]
  }
 ],
 "metadata": {
  "kernelspec": {
   "display_name": "Python 3",
   "language": "python",
   "name": "python3"
  },
  "language_info": {
   "codemirror_mode": {
    "name": "ipython",
    "version": 3
   },
   "file_extension": ".py",
   "mimetype": "text/x-python",
   "name": "python",
   "nbconvert_exporter": "python",
   "pygments_lexer": "ipython3",
   "version": "3.11.8"
  }
 },
 "nbformat": 4,
 "nbformat_minor": 5
}
